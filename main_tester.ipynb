{
 "cells": [
  {
   "cell_type": "code",
   "execution_count": 7,
   "metadata": {},
   "outputs": [],
   "source": [
    "# navigate to the Features folder\n",
    "import sys\n",
    "sys.path.append(sys.path[0]+'/./Features')\n",
    "\n",
    "# universal import\n",
    "from universal_imports import *\n",
    "\n",
    "#------------------------------\n",
    "# Features import\n",
    "\n",
    "\n",
    "\n",
    "#------------------------------"
   ]
  },
  {
   "cell_type": "markdown",
   "metadata": {},
   "source": [
    "## Finding A Standard Format for the Main Dataframe"
   ]
  },
  {
   "cell_type": "code",
   "execution_count": 9,
   "metadata": {},
   "outputs": [],
   "source": [
    "main_df = helper.reformat_main_df(main_df)"
   ]
  },
  {
   "cell_type": "code",
   "execution_count": 10,
   "metadata": {},
   "outputs": [
    {
     "data": {
      "text/html": [
       "<div>\n",
       "<style scoped>\n",
       "    .dataframe tbody tr th:only-of-type {\n",
       "        vertical-align: middle;\n",
       "    }\n",
       "\n",
       "    .dataframe tbody tr th {\n",
       "        vertical-align: top;\n",
       "    }\n",
       "\n",
       "    .dataframe thead th {\n",
       "        text-align: right;\n",
       "    }\n",
       "</style>\n",
       "<table border=\"1\" class=\"dataframe\">\n",
       "  <thead>\n",
       "    <tr style=\"text-align: right;\">\n",
       "      <th></th>\n",
       "      <th>Date</th>\n",
       "      <th>Description</th>\n",
       "      <th>Original Description</th>\n",
       "      <th>Amount</th>\n",
       "      <th>Category</th>\n",
       "      <th>Account Name</th>\n",
       "      <th>Asset</th>\n",
       "    </tr>\n",
       "  </thead>\n",
       "  <tbody>\n",
       "    <tr>\n",
       "      <th>0</th>\n",
       "      <td>2023-01-19</td>\n",
       "      <td>DISCOVER</td>\n",
       "      <td>DISCOVER</td>\n",
       "      <td>-70.01</td>\n",
       "      <td>Credit Card Payment</td>\n",
       "      <td>CHECKING Account</td>\n",
       "      <td>NaN</td>\n",
       "    </tr>\n",
       "    <tr>\n",
       "      <th>1</th>\n",
       "      <td>2023-01-19</td>\n",
       "      <td>Payment Thank You-Mobile</td>\n",
       "      <td>Payment Thank You-Mobile</td>\n",
       "      <td>4.99</td>\n",
       "      <td>Credit Card Payment</td>\n",
       "      <td>CREDIT CARD</td>\n",
       "      <td>NaN</td>\n",
       "    </tr>\n",
       "    <tr>\n",
       "      <th>2</th>\n",
       "      <td>2023-01-19</td>\n",
       "      <td>Payment Thank You-Mobile</td>\n",
       "      <td>Payment Thank You-Mobile</td>\n",
       "      <td>180.54</td>\n",
       "      <td>Credit Card Payment</td>\n",
       "      <td>CREDIT CARD</td>\n",
       "      <td>NaN</td>\n",
       "    </tr>\n",
       "    <tr>\n",
       "      <th>3</th>\n",
       "      <td>2023-01-19</td>\n",
       "      <td>McDonald's Lunch</td>\n",
       "      <td>DOORDASH*MCDONALDS</td>\n",
       "      <td>-16.19</td>\n",
       "      <td>Food Delivery</td>\n",
       "      <td>DISCOVER IT CARD</td>\n",
       "      <td>NaN</td>\n",
       "    </tr>\n",
       "    <tr>\n",
       "      <th>4</th>\n",
       "      <td>2023-01-18</td>\n",
       "      <td>INTERNET PAYMENT - THANK YOU</td>\n",
       "      <td>INTERNET PAYMENT - THANK YOU</td>\n",
       "      <td>70.01</td>\n",
       "      <td>Credit Card Payment</td>\n",
       "      <td>DISCOVER IT CARD</td>\n",
       "      <td>NaN</td>\n",
       "    </tr>\n",
       "  </tbody>\n",
       "</table>\n",
       "</div>"
      ],
      "text/plain": [
       "        Date                   Description          Original Description  \\\n",
       "0 2023-01-19                      DISCOVER                      DISCOVER   \n",
       "1 2023-01-19      Payment Thank You-Mobile      Payment Thank You-Mobile   \n",
       "2 2023-01-19      Payment Thank You-Mobile      Payment Thank You-Mobile   \n",
       "3 2023-01-19              McDonald's Lunch            DOORDASH*MCDONALDS   \n",
       "4 2023-01-18  INTERNET PAYMENT - THANK YOU  INTERNET PAYMENT - THANK YOU   \n",
       "\n",
       "   Amount             Category      Account Name  Asset  \n",
       "0  -70.01  Credit Card Payment  CHECKING Account    NaN  \n",
       "1    4.99  Credit Card Payment       CREDIT CARD    NaN  \n",
       "2  180.54  Credit Card Payment       CREDIT CARD    NaN  \n",
       "3  -16.19        Food Delivery  DISCOVER IT CARD    NaN  \n",
       "4   70.01  Credit Card Payment  DISCOVER IT CARD    NaN  "
      ]
     },
     "execution_count": 10,
     "metadata": {},
     "output_type": "execute_result"
    }
   ],
   "source": [
    "main_df.head()"
   ]
  },
  {
   "cell_type": "code",
   "execution_count": 11,
   "metadata": {},
   "outputs": [],
   "source": [
    "# export the processed version\n",
    "main_df.to_csv('Data/mint_processed.csv', index=False)"
   ]
  },
  {
   "cell_type": "code",
   "execution_count": 12,
   "metadata": {},
   "outputs": [
    {
     "data": {
      "text/plain": [
       "Date                    datetime64[ns]\n",
       "Description                     object\n",
       "Original Description            object\n",
       "Amount                         float64\n",
       "Category                        object\n",
       "Account Name                    object\n",
       "Asset                          float64\n",
       "dtype: object"
      ]
     },
     "execution_count": 12,
     "metadata": {},
     "output_type": "execute_result"
    }
   ],
   "source": [
    "main_df.dtypes"
   ]
  },
  {
   "attachments": {},
   "cell_type": "markdown",
   "metadata": {},
   "source": [
    "## Break Down Monthly Expenses"
   ]
  },
  {
   "cell_type": "code",
   "execution_count": null,
   "metadata": {},
   "outputs": [],
   "source": []
  }
 ],
 "metadata": {
  "kernelspec": {
   "display_name": "Python 3.10.7 64-bit",
   "language": "python",
   "name": "python3"
  },
  "language_info": {
   "codemirror_mode": {
    "name": "ipython",
    "version": 3
   },
   "file_extension": ".py",
   "mimetype": "text/x-python",
   "name": "python",
   "nbconvert_exporter": "python",
   "pygments_lexer": "ipython3",
   "version": "3.10.7 (v3.10.7:6cc6b13308, Sep  5 2022, 14:02:52) [Clang 13.0.0 (clang-1300.0.29.30)]"
  },
  "orig_nbformat": 4,
  "vscode": {
   "interpreter": {
    "hash": "aee8b7b246df8f9039afb4144a1f6fd8d2ca17a180786b69acc140d282b71a49"
   }
  }
 },
 "nbformat": 4,
 "nbformat_minor": 2
}
