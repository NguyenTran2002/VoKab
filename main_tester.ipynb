{
 "cells": [
  {
   "cell_type": "code",
   "execution_count": 1,
   "metadata": {},
   "outputs": [],
   "source": [
    "# navigate to the Features folder\n",
    "import sys\n",
    "sys.path.append(sys.path[0]+'/./Features')\n",
    "\n",
    "# universal import\n",
    "from universal_imports import *\n",
    "\n",
    "#------------------------------\n",
    "# Features import\n",
    "\n",
    "import helper\n",
    "import grader\n",
    "\n",
    "#------------------------------"
   ]
  },
  {
   "cell_type": "markdown",
   "metadata": {},
   "source": [
    "## Finding A Standard Format for the Main Dataframe"
   ]
  },
  {
   "cell_type": "code",
   "execution_count": 2,
   "metadata": {},
   "outputs": [
    {
     "data": {
      "text/html": [
       "<div>\n",
       "<style scoped>\n",
       "    .dataframe tbody tr th:only-of-type {\n",
       "        vertical-align: middle;\n",
       "    }\n",
       "\n",
       "    .dataframe tbody tr th {\n",
       "        vertical-align: top;\n",
       "    }\n",
       "\n",
       "    .dataframe thead th {\n",
       "        text-align: right;\n",
       "    }\n",
       "</style>\n",
       "<table border=\"1\" class=\"dataframe\">\n",
       "  <thead>\n",
       "    <tr style=\"text-align: right;\">\n",
       "      <th></th>\n",
       "      <th>0</th>\n",
       "      <th>1</th>\n",
       "    </tr>\n",
       "  </thead>\n",
       "  <tbody>\n",
       "    <tr>\n",
       "      <th>0</th>\n",
       "      <td>one</td>\n",
       "      <td>1</td>\n",
       "    </tr>\n",
       "    <tr>\n",
       "      <th>1</th>\n",
       "      <td>two</td>\n",
       "      <td>2</td>\n",
       "    </tr>\n",
       "    <tr>\n",
       "      <th>2</th>\n",
       "      <td>three</td>\n",
       "      <td>3</td>\n",
       "    </tr>\n",
       "  </tbody>\n",
       "</table>\n",
       "</div>"
      ],
      "text/plain": [
       "       0  1\n",
       "0    one  1\n",
       "1    two  2\n",
       "2  three  3"
      ]
     },
     "execution_count": 2,
     "metadata": {},
     "output_type": "execute_result"
    }
   ],
   "source": [
    "main_df = pd.read_csv(\"Data/Users/trann/English Number.csv\", header = None)\n",
    "main_df"
   ]
  },
  {
   "cell_type": "code",
   "execution_count": 8,
   "metadata": {},
   "outputs": [
    {
     "data": {
      "text/html": [
       "<div>\n",
       "<style scoped>\n",
       "    .dataframe tbody tr th:only-of-type {\n",
       "        vertical-align: middle;\n",
       "    }\n",
       "\n",
       "    .dataframe tbody tr th {\n",
       "        vertical-align: top;\n",
       "    }\n",
       "\n",
       "    .dataframe thead th {\n",
       "        text-align: right;\n",
       "    }\n",
       "</style>\n",
       "<table border=\"1\" class=\"dataframe\">\n",
       "  <thead>\n",
       "    <tr style=\"text-align: right;\">\n",
       "      <th></th>\n",
       "      <th>one</th>\n",
       "      <th>1</th>\n",
       "      <th>Mastery</th>\n",
       "      <th>Total Tries</th>\n",
       "      <th>Total Success</th>\n",
       "    </tr>\n",
       "  </thead>\n",
       "  <tbody>\n",
       "    <tr>\n",
       "      <th>0</th>\n",
       "      <td>two</td>\n",
       "      <td>2</td>\n",
       "      <td>0</td>\n",
       "      <td>0</td>\n",
       "      <td>0</td>\n",
       "    </tr>\n",
       "    <tr>\n",
       "      <th>1</th>\n",
       "      <td>three</td>\n",
       "      <td>3</td>\n",
       "      <td>0</td>\n",
       "      <td>0</td>\n",
       "      <td>0</td>\n",
       "    </tr>\n",
       "  </tbody>\n",
       "</table>\n",
       "</div>"
      ],
      "text/plain": [
       "     one  1  Mastery  Total Tries  Total Success\n",
       "0    two  2        0            0              0\n",
       "1  three  3        0            0              0"
      ]
     },
     "execution_count": 8,
     "metadata": {},
     "output_type": "execute_result"
    }
   ],
   "source": [
    "main_df.rename(columns = {0: \"Word\", 1: \"Definition\"}, inplace = True)\n",
    "main_df"
   ]
  },
  {
   "cell_type": "code",
   "execution_count": 3,
   "metadata": {},
   "outputs": [
    {
     "ename": "TypeError",
     "evalue": "'NoneType' object does not support item assignment",
     "output_type": "error",
     "traceback": [
      "\u001b[0;31m---------------------------------------------------------------------------\u001b[0m",
      "\u001b[0;31mTypeError\u001b[0m                                 Traceback (most recent call last)",
      "\u001b[1;32m/Users/nnt/Desktop/VoKab/main_tester.ipynb Cell 5\u001b[0m in \u001b[0;36m<cell line: 1>\u001b[0;34m()\u001b[0m\n\u001b[0;32m----> <a href='vscode-notebook-cell:/Users/nnt/Desktop/VoKab/main_tester.ipynb#W2sZmlsZQ%3D%3D?line=0'>1</a>\u001b[0m helper\u001b[39m.\u001b[39;49mreformat_set_df(\u001b[39m\"\u001b[39;49m\u001b[39mData/Users/trann/English Number.csv\u001b[39;49m\u001b[39m\"\u001b[39;49m)\n\u001b[1;32m      <a href='vscode-notebook-cell:/Users/nnt/Desktop/VoKab/main_tester.ipynb#W2sZmlsZQ%3D%3D?line=2'>3</a>\u001b[0m main_df \u001b[39m=\u001b[39m pd\u001b[39m.\u001b[39mread_csv(\u001b[39m\"\u001b[39m\u001b[39mData/Users/trann/English Number.csv\u001b[39m\u001b[39m\"\u001b[39m)\n\u001b[1;32m      <a href='vscode-notebook-cell:/Users/nnt/Desktop/VoKab/main_tester.ipynb#W2sZmlsZQ%3D%3D?line=4'>5</a>\u001b[0m main_df\n",
      "File \u001b[0;32m~/Desktop/VoKab/./Features/helper.py:179\u001b[0m, in \u001b[0;36mreformat_set_df\u001b[0;34m(path)\u001b[0m\n\u001b[1;32m    176\u001b[0m set_df \u001b[39m=\u001b[39m set_df\u001b[39m.\u001b[39mrename(columns\u001b[39m=\u001b[39mmapping, inplace \u001b[39m=\u001b[39m \u001b[39mTrue\u001b[39;00m)\n\u001b[1;32m    178\u001b[0m \u001b[39m# add column \"Mastery\" with all values as 0\u001b[39;00m\n\u001b[0;32m--> 179\u001b[0m set_df[\u001b[39m\"\u001b[39m\u001b[39mMastery\u001b[39m\u001b[39m\"\u001b[39m] \u001b[39m=\u001b[39m \u001b[39m0\u001b[39m\n\u001b[1;32m    181\u001b[0m \u001b[39m# add column \"Total Tries\"\u001b[39;00m\n\u001b[1;32m    182\u001b[0m set_df[\u001b[39m\"\u001b[39m\u001b[39mTotal Tries\u001b[39m\u001b[39m\"\u001b[39m] \u001b[39m=\u001b[39m \u001b[39m0\u001b[39m\n",
      "\u001b[0;31mTypeError\u001b[0m: 'NoneType' object does not support item assignment"
     ]
    }
   ],
   "source": [
    "helper.reformat_set_df(\"Data/Users/trann/English Number.csv\")\n",
    "\n",
    "main_df = pd.read_csv(\"Data/Users/trann/English Number.csv\")\n",
    "\n",
    "main_df"
   ]
  },
  {
   "cell_type": "code",
   "execution_count": 4,
   "metadata": {},
   "outputs": [
    {
     "data": {
      "text/html": [
       "<div>\n",
       "<style scoped>\n",
       "    .dataframe tbody tr th:only-of-type {\n",
       "        vertical-align: middle;\n",
       "    }\n",
       "\n",
       "    .dataframe tbody tr th {\n",
       "        vertical-align: top;\n",
       "    }\n",
       "\n",
       "    .dataframe thead th {\n",
       "        text-align: right;\n",
       "    }\n",
       "</style>\n",
       "<table border=\"1\" class=\"dataframe\">\n",
       "  <thead>\n",
       "    <tr style=\"text-align: right;\">\n",
       "      <th></th>\n",
       "      <th>one</th>\n",
       "      <th>1</th>\n",
       "      <th>Mastery</th>\n",
       "      <th>Total Tries</th>\n",
       "      <th>Total Success</th>\n",
       "    </tr>\n",
       "  </thead>\n",
       "  <tbody>\n",
       "    <tr>\n",
       "      <th>0</th>\n",
       "      <td>two</td>\n",
       "      <td>2</td>\n",
       "      <td>0</td>\n",
       "      <td>0</td>\n",
       "      <td>0</td>\n",
       "    </tr>\n",
       "    <tr>\n",
       "      <th>1</th>\n",
       "      <td>three</td>\n",
       "      <td>3</td>\n",
       "      <td>0</td>\n",
       "      <td>0</td>\n",
       "      <td>0</td>\n",
       "    </tr>\n",
       "  </tbody>\n",
       "</table>\n",
       "</div>"
      ],
      "text/plain": [
       "     one  1  Mastery  Total Tries  Total Success\n",
       "0    two  2        0            0              0\n",
       "1  three  3        0            0              0"
      ]
     },
     "execution_count": 4,
     "metadata": {},
     "output_type": "execute_result"
    }
   ],
   "source": []
  },
  {
   "cell_type": "code",
   "execution_count": 16,
   "metadata": {},
   "outputs": [
    {
     "data": {
      "text/plain": [
       "2"
      ]
     },
     "execution_count": 16,
     "metadata": {},
     "output_type": "execute_result"
    }
   ],
   "source": [
    "main_df = pd.read_csv(\"Data/Users/trann/French Food.csv\", header = None)\n",
    "\n",
    "# get the number of columns of the dataframe\n",
    "num_cols = len(main_df.columns)\n",
    "\n",
    "num_cols"
   ]
  },
  {
   "cell_type": "code",
   "execution_count": 24,
   "metadata": {},
   "outputs": [],
   "source": [
    "main_df = pd.read_csv(\"Data/Users/trann/English Number.csv\", header = None)\n",
    "\n",
    "# rename column 0 to \"Word\"\n",
    "main_df.rename(columns = {0: \"Word\"}, inplace = True)\n",
    "\n",
    "# rename column 1 to \"Definition\"\n",
    "main_df.rename(columns = {1: \"Definition\"}, inplace = True)\n",
    "\n",
    "# add column \"Mastery\" with all values as 0\n",
    "main_df[\"Mastery\"] = 0\n",
    "\n",
    "# add column \"Total Tries\"\n",
    "main_df[\"Total Tries\"] = 0\n",
    "\n",
    "# add column \"Total Success\"\n",
    "main_df[\"Total Success\"] = 0\n",
    "\n",
    "main_df\n",
    "\n",
    "# export\n",
    "main_df.to_csv(\"Data/Users/trann/English Number.csv\", index = False)"
   ]
  },
  {
   "cell_type": "code",
   "execution_count": 18,
   "metadata": {},
   "outputs": [
    {
     "data": {
      "text/plain": [
       "'un chou-fleur'"
      ]
     },
     "execution_count": 18,
     "metadata": {},
     "output_type": "execute_result"
    }
   ],
   "source": [
    "main_df.at[10, \"Word\"]"
   ]
  },
  {
   "cell_type": "code",
   "execution_count": 22,
   "metadata": {},
   "outputs": [
    {
     "data": {
      "text/plain": [
       "[1, 3, 2]"
      ]
     },
     "execution_count": 22,
     "metadata": {},
     "output_type": "execute_result"
    }
   ],
   "source": [
    "k = [1,2,3]\n",
    "e = random.shuffle(k)\n",
    "k"
   ]
  },
  {
   "cell_type": "code",
   "execution_count": 10,
   "metadata": {},
   "outputs": [
    {
     "data": {
      "text/html": [
       "<div>\n",
       "<style scoped>\n",
       "    .dataframe tbody tr th:only-of-type {\n",
       "        vertical-align: middle;\n",
       "    }\n",
       "\n",
       "    .dataframe tbody tr th {\n",
       "        vertical-align: top;\n",
       "    }\n",
       "\n",
       "    .dataframe thead th {\n",
       "        text-align: right;\n",
       "    }\n",
       "</style>\n",
       "<table border=\"1\" class=\"dataframe\">\n",
       "  <thead>\n",
       "    <tr style=\"text-align: right;\">\n",
       "      <th></th>\n",
       "      <th>Date</th>\n",
       "      <th>Description</th>\n",
       "      <th>Original Description</th>\n",
       "      <th>Amount</th>\n",
       "      <th>Category</th>\n",
       "      <th>Account Name</th>\n",
       "      <th>Asset</th>\n",
       "    </tr>\n",
       "  </thead>\n",
       "  <tbody>\n",
       "    <tr>\n",
       "      <th>0</th>\n",
       "      <td>2023-01-19</td>\n",
       "      <td>DISCOVER</td>\n",
       "      <td>DISCOVER</td>\n",
       "      <td>-70.01</td>\n",
       "      <td>Credit Card Payment</td>\n",
       "      <td>CHECKING Account</td>\n",
       "      <td>NaN</td>\n",
       "    </tr>\n",
       "    <tr>\n",
       "      <th>1</th>\n",
       "      <td>2023-01-19</td>\n",
       "      <td>Payment Thank You-Mobile</td>\n",
       "      <td>Payment Thank You-Mobile</td>\n",
       "      <td>4.99</td>\n",
       "      <td>Credit Card Payment</td>\n",
       "      <td>CREDIT CARD</td>\n",
       "      <td>NaN</td>\n",
       "    </tr>\n",
       "    <tr>\n",
       "      <th>2</th>\n",
       "      <td>2023-01-19</td>\n",
       "      <td>Payment Thank You-Mobile</td>\n",
       "      <td>Payment Thank You-Mobile</td>\n",
       "      <td>180.54</td>\n",
       "      <td>Credit Card Payment</td>\n",
       "      <td>CREDIT CARD</td>\n",
       "      <td>NaN</td>\n",
       "    </tr>\n",
       "    <tr>\n",
       "      <th>3</th>\n",
       "      <td>2023-01-19</td>\n",
       "      <td>McDonald's Lunch</td>\n",
       "      <td>DOORDASH*MCDONALDS</td>\n",
       "      <td>-16.19</td>\n",
       "      <td>Food Delivery</td>\n",
       "      <td>DISCOVER IT CARD</td>\n",
       "      <td>NaN</td>\n",
       "    </tr>\n",
       "    <tr>\n",
       "      <th>4</th>\n",
       "      <td>2023-01-18</td>\n",
       "      <td>INTERNET PAYMENT - THANK YOU</td>\n",
       "      <td>INTERNET PAYMENT - THANK YOU</td>\n",
       "      <td>70.01</td>\n",
       "      <td>Credit Card Payment</td>\n",
       "      <td>DISCOVER IT CARD</td>\n",
       "      <td>NaN</td>\n",
       "    </tr>\n",
       "  </tbody>\n",
       "</table>\n",
       "</div>"
      ],
      "text/plain": [
       "        Date                   Description          Original Description  \\\n",
       "0 2023-01-19                      DISCOVER                      DISCOVER   \n",
       "1 2023-01-19      Payment Thank You-Mobile      Payment Thank You-Mobile   \n",
       "2 2023-01-19      Payment Thank You-Mobile      Payment Thank You-Mobile   \n",
       "3 2023-01-19              McDonald's Lunch            DOORDASH*MCDONALDS   \n",
       "4 2023-01-18  INTERNET PAYMENT - THANK YOU  INTERNET PAYMENT - THANK YOU   \n",
       "\n",
       "   Amount             Category      Account Name  Asset  \n",
       "0  -70.01  Credit Card Payment  CHECKING Account    NaN  \n",
       "1    4.99  Credit Card Payment       CREDIT CARD    NaN  \n",
       "2  180.54  Credit Card Payment       CREDIT CARD    NaN  \n",
       "3  -16.19        Food Delivery  DISCOVER IT CARD    NaN  \n",
       "4   70.01  Credit Card Payment  DISCOVER IT CARD    NaN  "
      ]
     },
     "execution_count": 10,
     "metadata": {},
     "output_type": "execute_result"
    }
   ],
   "source": [
    "main_df.head()"
   ]
  },
  {
   "cell_type": "code",
   "execution_count": 11,
   "metadata": {},
   "outputs": [],
   "source": [
    "# export the processed version\n",
    "main_df.to_csv('Data/mint_processed.csv', index=False)"
   ]
  },
  {
   "cell_type": "code",
   "execution_count": 12,
   "metadata": {},
   "outputs": [
    {
     "data": {
      "text/plain": [
       "Date                    datetime64[ns]\n",
       "Description                     object\n",
       "Original Description            object\n",
       "Amount                         float64\n",
       "Category                        object\n",
       "Account Name                    object\n",
       "Asset                          float64\n",
       "dtype: object"
      ]
     },
     "execution_count": 12,
     "metadata": {},
     "output_type": "execute_result"
    }
   ],
   "source": [
    "main_df.dtypes"
   ]
  },
  {
   "attachments": {},
   "cell_type": "markdown",
   "metadata": {},
   "source": [
    "## Break Down Monthly Expenses"
   ]
  },
  {
   "cell_type": "code",
   "execution_count": null,
   "metadata": {},
   "outputs": [],
   "source": []
  }
 ],
 "metadata": {
  "kernelspec": {
   "display_name": "Python 3.10.7 64-bit",
   "language": "python",
   "name": "python3"
  },
  "language_info": {
   "codemirror_mode": {
    "name": "ipython",
    "version": 3
   },
   "file_extension": ".py",
   "mimetype": "text/x-python",
   "name": "python",
   "nbconvert_exporter": "python",
   "pygments_lexer": "ipython3",
   "version": "3.10.7"
  },
  "orig_nbformat": 4,
  "vscode": {
   "interpreter": {
    "hash": "aee8b7b246df8f9039afb4144a1f6fd8d2ca17a180786b69acc140d282b71a49"
   }
  }
 },
 "nbformat": 4,
 "nbformat_minor": 2
}
